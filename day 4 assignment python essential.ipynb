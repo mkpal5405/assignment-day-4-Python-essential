{
 "cells": [
  {
   "cell_type": "markdown",
   "metadata": {},
   "source": [
    "# DAY 4 ASSIGNMENT PYTHON ESSENTIAL"
   ]
  },
  {
   "cell_type": "markdown",
   "metadata": {},
   "source": [
    "QUESTION 2:\n",
    "\n",
    "\n",
    "ANSWER 2:\n"
   ]
  },
  {
   "cell_type": "code",
   "execution_count": 9,
   "metadata": {},
   "outputs": [],
   "source": [
    "def fact(n):\n",
    "    if n == 1:\n",
    "        return n\n",
    "    else:\n",
    "        return n * fact(n - 1)\n",
    "    "
   ]
  },
  {
   "cell_type": "code",
   "execution_count": 15,
   "metadata": {},
   "outputs": [
    {
     "name": "stdout",
     "output_type": "stream",
     "text": [
      "enter a number :\n",
      "3\n",
      "the factorial of 3 is 6\n"
     ]
    }
   ],
   "source": [
    " n = int(input(\"enter a number :\\n\"))\n",
    "if n < 0:\n",
    "        print(\"factorial is not exist\")\n",
    "elif n == 0:\n",
    "        print(\"factorial of 0 is 1\")\n",
    "else:\n",
    "    print(\"the factorial of\" , n ,\"is\", fact(n))"
   ]
  },
  {
   "cell_type": "markdown",
   "metadata": {},
   "source": [
    "\n",
    "QUESTION 1:Write down a program in pythonfor opening a file and writing \"I Love Letsupgrade\" and close it, and read it back again , and append some data to it and close it.\n",
    "\n",
    "ANSWER 1:"
   ]
  },
  {
   "cell_type": "code",
   "execution_count": 17,
   "metadata": {},
   "outputs": [],
   "source": [
    "#creat a file"
   ]
  },
  {
   "cell_type": "code",
   "execution_count": 55,
   "metadata": {},
   "outputs": [],
   "source": [
    "game = open(\"ft.txt\",'w')\n",
    "game.write(\"I Love Letsupgrade.\")\n",
    "game.close()"
   ]
  },
  {
   "cell_type": "code",
   "execution_count": 56,
   "metadata": {},
   "outputs": [
    {
     "name": "stdout",
     "output_type": "stream",
     "text": [
      "I Love Letsupgrade.\n"
     ]
    }
   ],
   "source": [
    "game = open(\"ft.txt\",'r')\n",
    "print(game.read())\n",
    "game.close()"
   ]
  },
  {
   "cell_type": "code",
   "execution_count": 57,
   "metadata": {},
   "outputs": [],
   "source": [
    "game = open(\"ft.txt\",'a')                    \n",
    "game.write(\" my favourite cricketer is MS dhoni\")\n",
    "game.close()"
   ]
  },
  {
   "cell_type": "code",
   "execution_count": 58,
   "metadata": {},
   "outputs": [
    {
     "name": "stdout",
     "output_type": "stream",
     "text": [
      "I Love Letsupgrade. my favourite cricketer is MS dhoni\n"
     ]
    }
   ],
   "source": [
    "game = open(\"ft.txt\",'r')\n",
    "print(game.read())\n",
    "game.close()"
   ]
  },
  {
   "cell_type": "code",
   "execution_count": null,
   "metadata": {},
   "outputs": [],
   "source": []
  }
 ],
 "metadata": {
  "kernelspec": {
   "display_name": "Python 3",
   "language": "python",
   "name": "python3"
  },
  "language_info": {
   "codemirror_mode": {
    "name": "ipython",
    "version": 3
   },
   "file_extension": ".py",
   "mimetype": "text/x-python",
   "name": "python",
   "nbconvert_exporter": "python",
   "pygments_lexer": "ipython3",
   "version": "3.7.3"
  }
 },
 "nbformat": 4,
 "nbformat_minor": 2
}
